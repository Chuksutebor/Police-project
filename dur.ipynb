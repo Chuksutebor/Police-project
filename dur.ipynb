{
  "nbformat": 4,
  "nbformat_minor": 0,
  "metadata": {
    "colab": {
      "name": "dur.ipynb",
      "version": "0.3.2",
      "provenance": [],
      "include_colab_link": true
    },
    "kernelspec": {
      "name": "python3",
      "display_name": "Python 3"
    }
  },
  "cells": [
    {
      "cell_type": "markdown",
      "metadata": {
        "id": "view-in-github",
        "colab_type": "text"
      },
      "source": [
        "<a href=\"https://colab.research.google.com/github/chuksdata/Police-project/blob/master/dur.ipynb\" target=\"_parent\"><img src=\"https://colab.research.google.com/assets/colab-badge.svg\" alt=\"Open In Colab\"/></a>"
      ]
    },
    {
      "cell_type": "code",
      "metadata": {
        "id": "iHuZuInLa-Cq",
        "colab_type": "code",
        "colab": {}
      },
      "source": [
        "import pandas as pd\n",
        "import matplotlib.pyplot as plt\n",
        "dur = pd.read_csv('nc_durham_2019_02_25.csv')"
      ],
      "execution_count": 0,
      "outputs": []
    },
    {
      "cell_type": "markdown",
      "metadata": {
        "id": "Kr7DcS63c1t6",
        "colab_type": "text"
      },
      "source": [
        "Explorring the first 5 rows of the data frame"
      ]
    },
    {
      "cell_type": "code",
      "metadata": {
        "id": "Yh8JaPCbcyoz",
        "colab_type": "code",
        "colab": {
          "base_uri": "https://localhost:8080/",
          "height": 394
        },
        "outputId": "421a8b0a-5ec6-4d64-a35a-9846af09c472"
      },
      "source": [
        "dur.head()"
      ],
      "execution_count": 19,
      "outputs": [
        {
          "output_type": "execute_result",
          "data": {
            "text/html": [
              "<div>\n",
              "<style scoped>\n",
              "    .dataframe tbody tr th:only-of-type {\n",
              "        vertical-align: middle;\n",
              "    }\n",
              "\n",
              "    .dataframe tbody tr th {\n",
              "        vertical-align: top;\n",
              "    }\n",
              "\n",
              "    .dataframe thead th {\n",
              "        text-align: right;\n",
              "    }\n",
              "</style>\n",
              "<table border=\"1\" class=\"dataframe\">\n",
              "  <thead>\n",
              "    <tr style=\"text-align: right;\">\n",
              "      <th></th>\n",
              "      <th>raw_row_number</th>\n",
              "      <th>date</th>\n",
              "      <th>time</th>\n",
              "      <th>location</th>\n",
              "      <th>county_name</th>\n",
              "      <th>subject_age</th>\n",
              "      <th>subject_race</th>\n",
              "      <th>subject_sex</th>\n",
              "      <th>officer_id_hash</th>\n",
              "      <th>department_name</th>\n",
              "      <th>type</th>\n",
              "      <th>arrest_made</th>\n",
              "      <th>citation_issued</th>\n",
              "      <th>warning_issued</th>\n",
              "      <th>outcome</th>\n",
              "      <th>contraband_found</th>\n",
              "      <th>contraband_drugs</th>\n",
              "      <th>contraband_weapons</th>\n",
              "      <th>frisk_performed</th>\n",
              "      <th>search_conducted</th>\n",
              "      <th>search_person</th>\n",
              "      <th>search_vehicle</th>\n",
              "      <th>search_basis</th>\n",
              "      <th>reason_for_frisk</th>\n",
              "      <th>reason_for_search</th>\n",
              "      <th>reason_for_stop</th>\n",
              "    </tr>\n",
              "  </thead>\n",
              "  <tbody>\n",
              "    <tr>\n",
              "      <th>0</th>\n",
              "      <td>1219541</td>\n",
              "      <td>2001-12-28</td>\n",
              "      <td>NaN</td>\n",
              "      <td>Durham, Durham County</td>\n",
              "      <td>Durham County</td>\n",
              "      <td>22.0</td>\n",
              "      <td>black</td>\n",
              "      <td>female</td>\n",
              "      <td>5b9908c1a5</td>\n",
              "      <td>Durham Police Department</td>\n",
              "      <td>vehicular</td>\n",
              "      <td>False</td>\n",
              "      <td>False</td>\n",
              "      <td>True</td>\n",
              "      <td>warning</td>\n",
              "      <td>NaN</td>\n",
              "      <td>NaN</td>\n",
              "      <td>NaN</td>\n",
              "      <td>NaN</td>\n",
              "      <td>False</td>\n",
              "      <td>NaN</td>\n",
              "      <td>NaN</td>\n",
              "      <td>NaN</td>\n",
              "      <td>NaN</td>\n",
              "      <td>NaN</td>\n",
              "      <td>Investigation</td>\n",
              "    </tr>\n",
              "    <tr>\n",
              "      <th>1</th>\n",
              "      <td>1221117</td>\n",
              "      <td>2002-01-02</td>\n",
              "      <td>04:00:00</td>\n",
              "      <td>Durham, Durham County</td>\n",
              "      <td>Durham County</td>\n",
              "      <td>28.0</td>\n",
              "      <td>hispanic</td>\n",
              "      <td>male</td>\n",
              "      <td>0c140e68b5</td>\n",
              "      <td>Durham Police Department</td>\n",
              "      <td>vehicular</td>\n",
              "      <td>False</td>\n",
              "      <td>True</td>\n",
              "      <td>False</td>\n",
              "      <td>citation</td>\n",
              "      <td>NaN</td>\n",
              "      <td>NaN</td>\n",
              "      <td>NaN</td>\n",
              "      <td>NaN</td>\n",
              "      <td>False</td>\n",
              "      <td>NaN</td>\n",
              "      <td>NaN</td>\n",
              "      <td>NaN</td>\n",
              "      <td>NaN</td>\n",
              "      <td>NaN</td>\n",
              "      <td>Stop Light/Sign Violation</td>\n",
              "    </tr>\n",
              "    <tr>\n",
              "      <th>2</th>\n",
              "      <td>1221124</td>\n",
              "      <td>2002-01-02</td>\n",
              "      <td>NaN</td>\n",
              "      <td>Durham, Durham County</td>\n",
              "      <td>Durham County</td>\n",
              "      <td>21.0</td>\n",
              "      <td>black</td>\n",
              "      <td>male</td>\n",
              "      <td>0c140e68b5</td>\n",
              "      <td>Durham Police Department</td>\n",
              "      <td>vehicular</td>\n",
              "      <td>False</td>\n",
              "      <td>False</td>\n",
              "      <td>True</td>\n",
              "      <td>warning</td>\n",
              "      <td>NaN</td>\n",
              "      <td>NaN</td>\n",
              "      <td>NaN</td>\n",
              "      <td>NaN</td>\n",
              "      <td>False</td>\n",
              "      <td>NaN</td>\n",
              "      <td>NaN</td>\n",
              "      <td>NaN</td>\n",
              "      <td>NaN</td>\n",
              "      <td>NaN</td>\n",
              "      <td>Vehicle Equipment Violation</td>\n",
              "    </tr>\n",
              "    <tr>\n",
              "      <th>3</th>\n",
              "      <td>1221133</td>\n",
              "      <td>2002-01-02</td>\n",
              "      <td>19:50:00</td>\n",
              "      <td>Durham, Durham County</td>\n",
              "      <td>Durham County</td>\n",
              "      <td>28.0</td>\n",
              "      <td>black</td>\n",
              "      <td>female</td>\n",
              "      <td>41b05be9b1</td>\n",
              "      <td>Durham Police Department</td>\n",
              "      <td>vehicular</td>\n",
              "      <td>False</td>\n",
              "      <td>True</td>\n",
              "      <td>False</td>\n",
              "      <td>citation</td>\n",
              "      <td>NaN</td>\n",
              "      <td>NaN</td>\n",
              "      <td>NaN</td>\n",
              "      <td>NaN</td>\n",
              "      <td>False</td>\n",
              "      <td>NaN</td>\n",
              "      <td>NaN</td>\n",
              "      <td>NaN</td>\n",
              "      <td>NaN</td>\n",
              "      <td>NaN</td>\n",
              "      <td>Vehicle Regulatory Violation</td>\n",
              "    </tr>\n",
              "    <tr>\n",
              "      <th>4</th>\n",
              "      <td>1221146</td>\n",
              "      <td>2002-01-02</td>\n",
              "      <td>20:45:00</td>\n",
              "      <td>Durham, Durham County</td>\n",
              "      <td>Durham County</td>\n",
              "      <td>36.0</td>\n",
              "      <td>black</td>\n",
              "      <td>female</td>\n",
              "      <td>41b05be9b1</td>\n",
              "      <td>Durham Police Department</td>\n",
              "      <td>vehicular</td>\n",
              "      <td>False</td>\n",
              "      <td>False</td>\n",
              "      <td>True</td>\n",
              "      <td>warning</td>\n",
              "      <td>NaN</td>\n",
              "      <td>NaN</td>\n",
              "      <td>NaN</td>\n",
              "      <td>NaN</td>\n",
              "      <td>False</td>\n",
              "      <td>NaN</td>\n",
              "      <td>NaN</td>\n",
              "      <td>NaN</td>\n",
              "      <td>NaN</td>\n",
              "      <td>NaN</td>\n",
              "      <td>Vehicle Regulatory Violation</td>\n",
              "    </tr>\n",
              "  </tbody>\n",
              "</table>\n",
              "</div>"
            ],
            "text/plain": [
              "   raw_row_number        date  ... reason_for_search               reason_for_stop\n",
              "0         1219541  2001-12-28  ...               NaN                 Investigation\n",
              "1         1221117  2002-01-02  ...               NaN     Stop Light/Sign Violation\n",
              "2         1221124  2002-01-02  ...               NaN   Vehicle Equipment Violation\n",
              "3         1221133  2002-01-02  ...               NaN  Vehicle Regulatory Violation\n",
              "4         1221146  2002-01-02  ...               NaN  Vehicle Regulatory Violation\n",
              "\n",
              "[5 rows x 26 columns]"
            ]
          },
          "metadata": {
            "tags": []
          },
          "execution_count": 19
        }
      ]
    },
    {
      "cell_type": "code",
      "metadata": {
        "id": "OXa_uTdydOHv",
        "colab_type": "code",
        "colab": {
          "base_uri": "https://localhost:8080/",
          "height": 394
        },
        "outputId": "210397ef-6393-424e-ce36-876a3ad8a093"
      },
      "source": [
        "dur.tail()"
      ],
      "execution_count": 11,
      "outputs": [
        {
          "output_type": "execute_result",
          "data": {
            "text/html": [
              "<div>\n",
              "<style scoped>\n",
              "    .dataframe tbody tr th:only-of-type {\n",
              "        vertical-align: middle;\n",
              "    }\n",
              "\n",
              "    .dataframe tbody tr th {\n",
              "        vertical-align: top;\n",
              "    }\n",
              "\n",
              "    .dataframe thead th {\n",
              "        text-align: right;\n",
              "    }\n",
              "</style>\n",
              "<table border=\"1\" class=\"dataframe\">\n",
              "  <thead>\n",
              "    <tr style=\"text-align: right;\">\n",
              "      <th></th>\n",
              "      <th>raw_row_number</th>\n",
              "      <th>date</th>\n",
              "      <th>time</th>\n",
              "      <th>location</th>\n",
              "      <th>county_name</th>\n",
              "      <th>subject_age</th>\n",
              "      <th>subject_race</th>\n",
              "      <th>subject_sex</th>\n",
              "      <th>officer_id_hash</th>\n",
              "      <th>department_name</th>\n",
              "      <th>type</th>\n",
              "      <th>arrest_made</th>\n",
              "      <th>citation_issued</th>\n",
              "      <th>warning_issued</th>\n",
              "      <th>outcome</th>\n",
              "      <th>contraband_found</th>\n",
              "      <th>contraband_drugs</th>\n",
              "      <th>contraband_weapons</th>\n",
              "      <th>frisk_performed</th>\n",
              "      <th>search_conducted</th>\n",
              "      <th>search_person</th>\n",
              "      <th>search_vehicle</th>\n",
              "      <th>search_basis</th>\n",
              "      <th>reason_for_frisk</th>\n",
              "      <th>reason_for_search</th>\n",
              "      <th>reason_for_stop</th>\n",
              "    </tr>\n",
              "  </thead>\n",
              "  <tbody>\n",
              "    <tr>\n",
              "      <th>326019</th>\n",
              "      <td>20266702</td>\n",
              "      <td>2015-12-03</td>\n",
              "      <td>21:10:00</td>\n",
              "      <td>nan, Durham County</td>\n",
              "      <td>Durham County</td>\n",
              "      <td>23.0</td>\n",
              "      <td>black</td>\n",
              "      <td>male</td>\n",
              "      <td>72b606b024</td>\n",
              "      <td>Durham Police Department</td>\n",
              "      <td>vehicular</td>\n",
              "      <td>False</td>\n",
              "      <td>True</td>\n",
              "      <td>False</td>\n",
              "      <td>citation</td>\n",
              "      <td>False</td>\n",
              "      <td>False</td>\n",
              "      <td>False</td>\n",
              "      <td>False</td>\n",
              "      <td>True</td>\n",
              "      <td>False</td>\n",
              "      <td>False</td>\n",
              "      <td>consent</td>\n",
              "      <td>NaN</td>\n",
              "      <td>Other Official Information</td>\n",
              "      <td>Stop Light/Sign Violation</td>\n",
              "    </tr>\n",
              "    <tr>\n",
              "      <th>326020</th>\n",
              "      <td>20266703</td>\n",
              "      <td>2015-12-04</td>\n",
              "      <td>03:20:00</td>\n",
              "      <td>nan, Durham County</td>\n",
              "      <td>Durham County</td>\n",
              "      <td>32.0</td>\n",
              "      <td>asian/pacific islander</td>\n",
              "      <td>female</td>\n",
              "      <td>a4d178e9f0</td>\n",
              "      <td>Durham Police Department</td>\n",
              "      <td>vehicular</td>\n",
              "      <td>False</td>\n",
              "      <td>False</td>\n",
              "      <td>False</td>\n",
              "      <td>NaN</td>\n",
              "      <td>False</td>\n",
              "      <td>False</td>\n",
              "      <td>False</td>\n",
              "      <td>False</td>\n",
              "      <td>True</td>\n",
              "      <td>True</td>\n",
              "      <td>True</td>\n",
              "      <td>probable cause</td>\n",
              "      <td>NaN</td>\n",
              "      <td>Observation of Suspected Contraband</td>\n",
              "      <td>Investigation</td>\n",
              "    </tr>\n",
              "    <tr>\n",
              "      <th>326021</th>\n",
              "      <td>20280195</td>\n",
              "      <td>2015-01-28</td>\n",
              "      <td>10:17:00</td>\n",
              "      <td>Durham, Durham County</td>\n",
              "      <td>Durham County</td>\n",
              "      <td>31.0</td>\n",
              "      <td>black</td>\n",
              "      <td>male</td>\n",
              "      <td>6c39e1a069</td>\n",
              "      <td>Durham County Sheriff's Office</td>\n",
              "      <td>vehicular</td>\n",
              "      <td>False</td>\n",
              "      <td>False</td>\n",
              "      <td>True</td>\n",
              "      <td>warning</td>\n",
              "      <td>NaN</td>\n",
              "      <td>NaN</td>\n",
              "      <td>NaN</td>\n",
              "      <td>NaN</td>\n",
              "      <td>False</td>\n",
              "      <td>NaN</td>\n",
              "      <td>NaN</td>\n",
              "      <td>NaN</td>\n",
              "      <td>NaN</td>\n",
              "      <td>NaN</td>\n",
              "      <td>Speed Limit Violation</td>\n",
              "    </tr>\n",
              "    <tr>\n",
              "      <th>326022</th>\n",
              "      <td>20280197</td>\n",
              "      <td>2015-01-28</td>\n",
              "      <td>13:41:00</td>\n",
              "      <td>Durham, Durham County</td>\n",
              "      <td>Durham County</td>\n",
              "      <td>21.0</td>\n",
              "      <td>black</td>\n",
              "      <td>female</td>\n",
              "      <td>6c39e1a069</td>\n",
              "      <td>Durham County Sheriff's Office</td>\n",
              "      <td>vehicular</td>\n",
              "      <td>False</td>\n",
              "      <td>False</td>\n",
              "      <td>True</td>\n",
              "      <td>warning</td>\n",
              "      <td>NaN</td>\n",
              "      <td>NaN</td>\n",
              "      <td>NaN</td>\n",
              "      <td>NaN</td>\n",
              "      <td>False</td>\n",
              "      <td>NaN</td>\n",
              "      <td>NaN</td>\n",
              "      <td>NaN</td>\n",
              "      <td>NaN</td>\n",
              "      <td>NaN</td>\n",
              "      <td>Speed Limit Violation</td>\n",
              "    </tr>\n",
              "    <tr>\n",
              "      <th>326023</th>\n",
              "      <td>20280228</td>\n",
              "      <td>2013-11-01</td>\n",
              "      <td>04:23:00</td>\n",
              "      <td>Durham, Durham County</td>\n",
              "      <td>Durham County</td>\n",
              "      <td>32.0</td>\n",
              "      <td>black</td>\n",
              "      <td>female</td>\n",
              "      <td>0fbc3d0948</td>\n",
              "      <td>Durham County Sheriff's Office</td>\n",
              "      <td>vehicular</td>\n",
              "      <td>False</td>\n",
              "      <td>False</td>\n",
              "      <td>True</td>\n",
              "      <td>warning</td>\n",
              "      <td>NaN</td>\n",
              "      <td>NaN</td>\n",
              "      <td>NaN</td>\n",
              "      <td>NaN</td>\n",
              "      <td>False</td>\n",
              "      <td>NaN</td>\n",
              "      <td>NaN</td>\n",
              "      <td>NaN</td>\n",
              "      <td>NaN</td>\n",
              "      <td>NaN</td>\n",
              "      <td>Speed Limit Violation</td>\n",
              "    </tr>\n",
              "  </tbody>\n",
              "</table>\n",
              "</div>"
            ],
            "text/plain": [
              "        raw_row_number  ...            reason_for_stop\n",
              "326019        20266702  ...  Stop Light/Sign Violation\n",
              "326020        20266703  ...              Investigation\n",
              "326021        20280195  ...      Speed Limit Violation\n",
              "326022        20280197  ...      Speed Limit Violation\n",
              "326023        20280228  ...      Speed Limit Violation\n",
              "\n",
              "[5 rows x 26 columns]"
            ]
          },
          "metadata": {
            "tags": []
          },
          "execution_count": 11
        }
      ]
    },
    {
      "cell_type": "code",
      "metadata": {
        "id": "h_xw8VOsqs2y",
        "colab_type": "code",
        "colab": {
          "base_uri": "https://localhost:8080/",
          "height": 34
        },
        "outputId": "d0a639c7-bdd9-4fa5-cee4-6694bdf551b9"
      },
      "source": [
        "dur.shape"
      ],
      "execution_count": 27,
      "outputs": [
        {
          "output_type": "execute_result",
          "data": {
            "text/plain": [
              "(326024, 26)"
            ]
          },
          "metadata": {
            "tags": []
          },
          "execution_count": 27
        }
      ]
    },
    {
      "cell_type": "code",
      "metadata": {
        "id": "YE2EbY33qyOK",
        "colab_type": "code",
        "colab": {
          "base_uri": "https://localhost:8080/",
          "height": 153
        },
        "outputId": "6e4374b8-3c92-4869-b5e5-62a721b3e879"
      },
      "source": [
        "dur.columns"
      ],
      "execution_count": 28,
      "outputs": [
        {
          "output_type": "execute_result",
          "data": {
            "text/plain": [
              "Index(['raw_row_number', 'date', 'time', 'location', 'county_name',\n",
              "       'subject_age', 'subject_race', 'subject_sex', 'officer_id_hash',\n",
              "       'department_name', 'type', 'arrest_made', 'citation_issued',\n",
              "       'warning_issued', 'outcome', 'contraband_found', 'contraband_drugs',\n",
              "       'contraband_weapons', 'frisk_performed', 'search_conducted',\n",
              "       'search_person', 'search_vehicle', 'search_basis', 'reason_for_frisk',\n",
              "       'reason_for_search', 'reason_for_stop'],\n",
              "      dtype='object')"
            ]
          },
          "metadata": {
            "tags": []
          },
          "execution_count": 28
        }
      ]
    },
    {
      "cell_type": "code",
      "metadata": {
        "id": "Bh1laCaerAJZ",
        "colab_type": "code",
        "colab": {
          "base_uri": "https://localhost:8080/",
          "height": 544
        },
        "outputId": "f8789481-c11e-470c-81a7-f01401a41fb4"
      },
      "source": [
        "dur.info()"
      ],
      "execution_count": 30,
      "outputs": [
        {
          "output_type": "stream",
          "text": [
            "<class 'pandas.core.frame.DataFrame'>\n",
            "RangeIndex: 326024 entries, 0 to 326023\n",
            "Data columns (total 26 columns):\n",
            "raw_row_number        326024 non-null int64\n",
            "date                  326024 non-null object\n",
            "time                  277785 non-null object\n",
            "location              326024 non-null object\n",
            "county_name           326024 non-null object\n",
            "subject_age           326017 non-null float64\n",
            "subject_race          326023 non-null object\n",
            "subject_sex           326023 non-null object\n",
            "officer_id_hash       326024 non-null object\n",
            "department_name       326024 non-null object\n",
            "type                  326024 non-null object\n",
            "arrest_made           326024 non-null bool\n",
            "citation_issued       326024 non-null bool\n",
            "warning_issued        326024 non-null bool\n",
            "outcome               315242 non-null object\n",
            "contraband_found      21706 non-null object\n",
            "contraband_drugs      21706 non-null object\n",
            "contraband_weapons    21706 non-null object\n",
            "frisk_performed       21706 non-null object\n",
            "search_conducted      326024 non-null bool\n",
            "search_person         21706 non-null object\n",
            "search_vehicle        21706 non-null object\n",
            "search_basis          20932 non-null object\n",
            "reason_for_frisk      774 non-null object\n",
            "reason_for_search     21706 non-null object\n",
            "reason_for_stop       326024 non-null object\n",
            "dtypes: bool(4), float64(1), int64(1), object(20)\n",
            "memory usage: 56.0+ MB\n"
          ],
          "name": "stdout"
        }
      ]
    },
    {
      "cell_type": "code",
      "metadata": {
        "id": "12BQz-txj_yr",
        "colab_type": "code",
        "colab": {
          "base_uri": "https://localhost:8080/",
          "height": 204
        },
        "outputId": "1ec62f46-e3a8-4451-a90f-168e7dcda4cd"
      },
      "source": [
        "durmini = dur[['subject_sex','subject_age','subject_race','reason_for_stop']]\n",
        "\n",
        "durmini.head()"
      ],
      "execution_count": 45,
      "outputs": [
        {
          "output_type": "execute_result",
          "data": {
            "text/html": [
              "<div>\n",
              "<style scoped>\n",
              "    .dataframe tbody tr th:only-of-type {\n",
              "        vertical-align: middle;\n",
              "    }\n",
              "\n",
              "    .dataframe tbody tr th {\n",
              "        vertical-align: top;\n",
              "    }\n",
              "\n",
              "    .dataframe thead th {\n",
              "        text-align: right;\n",
              "    }\n",
              "</style>\n",
              "<table border=\"1\" class=\"dataframe\">\n",
              "  <thead>\n",
              "    <tr style=\"text-align: right;\">\n",
              "      <th></th>\n",
              "      <th>subject_sex</th>\n",
              "      <th>subject_age</th>\n",
              "      <th>subject_race</th>\n",
              "      <th>reason_for_stop</th>\n",
              "    </tr>\n",
              "  </thead>\n",
              "  <tbody>\n",
              "    <tr>\n",
              "      <th>0</th>\n",
              "      <td>female</td>\n",
              "      <td>22.0</td>\n",
              "      <td>black</td>\n",
              "      <td>Investigation</td>\n",
              "    </tr>\n",
              "    <tr>\n",
              "      <th>1</th>\n",
              "      <td>male</td>\n",
              "      <td>28.0</td>\n",
              "      <td>hispanic</td>\n",
              "      <td>Stop Light/Sign Violation</td>\n",
              "    </tr>\n",
              "    <tr>\n",
              "      <th>2</th>\n",
              "      <td>male</td>\n",
              "      <td>21.0</td>\n",
              "      <td>black</td>\n",
              "      <td>Vehicle Equipment Violation</td>\n",
              "    </tr>\n",
              "    <tr>\n",
              "      <th>3</th>\n",
              "      <td>female</td>\n",
              "      <td>28.0</td>\n",
              "      <td>black</td>\n",
              "      <td>Vehicle Regulatory Violation</td>\n",
              "    </tr>\n",
              "    <tr>\n",
              "      <th>4</th>\n",
              "      <td>female</td>\n",
              "      <td>36.0</td>\n",
              "      <td>black</td>\n",
              "      <td>Vehicle Regulatory Violation</td>\n",
              "    </tr>\n",
              "  </tbody>\n",
              "</table>\n",
              "</div>"
            ],
            "text/plain": [
              "  subject_sex  subject_age subject_race               reason_for_stop\n",
              "0      female         22.0        black                 Investigation\n",
              "1        male         28.0     hispanic     Stop Light/Sign Violation\n",
              "2        male         21.0        black   Vehicle Equipment Violation\n",
              "3      female         28.0        black  Vehicle Regulatory Violation\n",
              "4      female         36.0        black  Vehicle Regulatory Violation"
            ]
          },
          "metadata": {
            "tags": []
          },
          "execution_count": 45
        }
      ]
    },
    {
      "cell_type": "markdown",
      "metadata": {
        "id": "faf_APqns1Xr",
        "colab_type": "text"
      },
      "source": [
        "**This is to check for percentage of stops per subject race.**"
      ]
    },
    {
      "cell_type": "code",
      "metadata": {
        "id": "rFqhMDKXteHB",
        "colab_type": "code",
        "colab": {
          "base_uri": "https://localhost:8080/",
          "height": 119
        },
        "outputId": "bbb74b4f-fc8d-4abe-9ea8-ad0f66405606"
      },
      "source": [
        "durmini.subject_race.value_counts(normalize = True)*100"
      ],
      "execution_count": 76,
      "outputs": [
        {
          "output_type": "execute_result",
          "data": {
            "text/plain": [
              "black                     55.471853\n",
              "white                     29.879794\n",
              "hispanic                  11.952531\n",
              "asian/pacific islander     1.513697\n",
              "other/unknown              1.182125\n",
              "Name: subject_race, dtype: float64"
            ]
          },
          "metadata": {
            "tags": []
          },
          "execution_count": 76
        }
      ]
    },
    {
      "cell_type": "code",
      "metadata": {
        "id": "ynxfcAkU_Iha",
        "colab_type": "code",
        "colab": {
          "base_uri": "https://localhost:8080/",
          "height": 394
        },
        "outputId": "2243bfcc-7ad7-41c9-b930-b24439a08233"
      },
      "source": [
        "durmini.subject_race.value_counts(normalize = True).plot(kind='bar',title = 'STOP BY RACE')"
      ],
      "execution_count": 79,
      "outputs": [
        {
          "output_type": "execute_result",
          "data": {
            "text/plain": [
              "<matplotlib.axes._subplots.AxesSubplot at 0x7fece42ff6a0>"
            ]
          },
          "metadata": {
            "tags": []
          },
          "execution_count": 79
        },
        {
          "output_type": "display_data",
          "data": {
            "image/png": "[encoded data removed]",
            "text/plain": [
              "<Figure size 432x288 with 1 Axes>"
            ]
          },
          "metadata": {
            "tags": []
          }
        }
      ]
    },
    {
      "cell_type": "markdown",
      "metadata": {
        "id": "1aMH80QydPgA",
        "colab_type": "text"
      },
      "source": [
        "From our data we can notice that blacks were stopped for 55% of the time. \n",
        "\n"
      ]
    },
    {
      "cell_type": "markdown",
      "metadata": {
        "id": "1olorSDl_lf4",
        "colab_type": "text"
      },
      "source": [
        "**what reason were black people stopped this much?**"
      ]
    },
    {
      "cell_type": "code",
      "metadata": {
        "id": "V_I0C1d9u57o",
        "colab_type": "code",
        "colab": {
          "base_uri": "https://localhost:8080/",
          "height": 204
        },
        "outputId": "9de180f9-02e7-41dd-8e6a-ba981b6c7779"
      },
      "source": [
        "Black = durmini[durmini.subject_race == 'black']\n",
        "Black.head()"
      ],
      "execution_count": 52,
      "outputs": [
        {
          "output_type": "execute_result",
          "data": {
            "text/html": [
              "<div>\n",
              "<style scoped>\n",
              "    .dataframe tbody tr th:only-of-type {\n",
              "        vertical-align: middle;\n",
              "    }\n",
              "\n",
              "    .dataframe tbody tr th {\n",
              "        vertical-align: top;\n",
              "    }\n",
              "\n",
              "    .dataframe thead th {\n",
              "        text-align: right;\n",
              "    }\n",
              "</style>\n",
              "<table border=\"1\" class=\"dataframe\">\n",
              "  <thead>\n",
              "    <tr style=\"text-align: right;\">\n",
              "      <th></th>\n",
              "      <th>subject_sex</th>\n",
              "      <th>subject_age</th>\n",
              "      <th>subject_race</th>\n",
              "      <th>reason_for_stop</th>\n",
              "    </tr>\n",
              "  </thead>\n",
              "  <tbody>\n",
              "    <tr>\n",
              "      <th>0</th>\n",
              "      <td>female</td>\n",
              "      <td>22.0</td>\n",
              "      <td>black</td>\n",
              "      <td>Investigation</td>\n",
              "    </tr>\n",
              "    <tr>\n",
              "      <th>2</th>\n",
              "      <td>male</td>\n",
              "      <td>21.0</td>\n",
              "      <td>black</td>\n",
              "      <td>Vehicle Equipment Violation</td>\n",
              "    </tr>\n",
              "    <tr>\n",
              "      <th>3</th>\n",
              "      <td>female</td>\n",
              "      <td>28.0</td>\n",
              "      <td>black</td>\n",
              "      <td>Vehicle Regulatory Violation</td>\n",
              "    </tr>\n",
              "    <tr>\n",
              "      <th>4</th>\n",
              "      <td>female</td>\n",
              "      <td>36.0</td>\n",
              "      <td>black</td>\n",
              "      <td>Vehicle Regulatory Violation</td>\n",
              "    </tr>\n",
              "    <tr>\n",
              "      <th>5</th>\n",
              "      <td>female</td>\n",
              "      <td>68.0</td>\n",
              "      <td>black</td>\n",
              "      <td>Seat Belt Violation</td>\n",
              "    </tr>\n",
              "  </tbody>\n",
              "</table>\n",
              "</div>"
            ],
            "text/plain": [
              "  subject_sex  subject_age subject_race               reason_for_stop\n",
              "0      female         22.0        black                 Investigation\n",
              "2        male         21.0        black   Vehicle Equipment Violation\n",
              "3      female         28.0        black  Vehicle Regulatory Violation\n",
              "4      female         36.0        black  Vehicle Regulatory Violation\n",
              "5      female         68.0        black           Seat Belt Violation"
            ]
          },
          "metadata": {
            "tags": []
          },
          "execution_count": 52
        }
      ]
    },
    {
      "cell_type": "code",
      "metadata": {
        "id": "MYKo37HZzoLx",
        "colab_type": "code",
        "colab": {
          "base_uri": "https://localhost:8080/",
          "height": 204
        },
        "outputId": "5642debc-79bc-4772-f516-c9d639ef6f54"
      },
      "source": [
        "Black.reason_for_stop.value_counts(normalize = True)*100"
      ],
      "execution_count": 78,
      "outputs": [
        {
          "output_type": "execute_result",
          "data": {
            "text/plain": [
              "Speed Limit Violation            28.237610\n",
              "Vehicle Regulatory Violation     23.210267\n",
              "Vehicle Equipment Violation      15.702982\n",
              "Investigation                     8.159756\n",
              "Safe Movement Violation           7.403332\n",
              "Stop Light/Sign Violation         6.607096\n",
              "Other Motor Vehicle Violation     4.973708\n",
              "Seat Belt Violation               3.882201\n",
              "Checkpoint                        1.443730\n",
              "Driving While Impaired            0.379318\n",
              "Name: reason_for_stop, dtype: float64"
            ]
          },
          "metadata": {
            "tags": []
          },
          "execution_count": 78
        }
      ]
    },
    {
      "cell_type": "code",
      "metadata": {
        "id": "YpYbEQuW5RJf",
        "colab_type": "code",
        "colab": {
          "base_uri": "https://localhost:8080/",
          "height": 435
        },
        "outputId": "720dadf4-11e8-453c-8b20-e3941f067881"
      },
      "source": [
        "Black.reason_for_stop.value_counts(normalize = True).plot(kind= 'bar',title='Reasons For Stop')"
      ],
      "execution_count": 75,
      "outputs": [
        {
          "output_type": "execute_result",
          "data": {
            "text/plain": [
              "<matplotlib.axes._subplots.AxesSubplot at 0x7fece43b3940>"
            ]
          },
          "metadata": {
            "tags": []
          },
          "execution_count": 75
        },
        {
          "output_type": "display_data",
          "data": {
            "image/png": "[encoded data removed]",
            "text/plain": [
              "<Figure size 432x288 with 1 Axes>"
            ]
          },
          "metadata": {
            "tags": []
          }
        }
      ]
    },
    {
      "cell_type": "code",
      "metadata": {
        "id": "hdBj4P1_5-we",
        "colab_type": "code",
        "colab": {}
      },
      "source": [
        ""
      ],
      "execution_count": 0,
      "outputs": []
    }
  ]
}